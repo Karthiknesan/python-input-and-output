{
 "cells": [
  {
   "cell_type": "markdown",
   "id": "be37603b",
   "metadata": {},
   "source": [
    "### Membership Operators"
   ]
  },
  {
   "cell_type": "code",
   "execution_count": 3,
   "id": "d97ea592",
   "metadata": {},
   "outputs": [
    {
     "name": "stdout",
     "output_type": "stream",
     "text": [
      "True\n"
     ]
    }
   ],
   "source": [
    "m = 'my name is karthik'\n",
    "print('is' in m)"
   ]
  },
  {
   "cell_type": "code",
   "execution_count": 4,
   "id": "366df7ba",
   "metadata": {},
   "outputs": [
    {
     "name": "stdout",
     "output_type": "stream",
     "text": [
      "True\n"
     ]
    }
   ],
   "source": [
    "m = 'my name is karthi'\n",
    "print('karthik' not in m)"
   ]
  },
  {
   "cell_type": "markdown",
   "id": "b7d19c0c",
   "metadata": {},
   "source": [
    "### Bitwise Operators"
   ]
  },
  {
   "cell_type": "code",
   "execution_count": 5,
   "id": "398ef68e",
   "metadata": {},
   "outputs": [
    {
     "name": "stdout",
     "output_type": "stream",
     "text": [
      "Bitwise AND 4\n"
     ]
    }
   ],
   "source": [
    "x=6    #binary form 0110\n",
    "y=4    #binary fprm 0100\n",
    "print(\"Bitwise AND\", x&y)"
   ]
  },
  {
   "cell_type": "code",
   "execution_count": 6,
   "id": "fafdb50b",
   "metadata": {},
   "outputs": [
    {
     "name": "stdout",
     "output_type": "stream",
     "text": [
      "Bitwise OR 6\n"
     ]
    }
   ],
   "source": [
    "x=6    #binary form 0110\n",
    "y=4    #binary fprm 0100\n",
    "print(\"Bitwise OR\", x|y)"
   ]
  },
  {
   "cell_type": "code",
   "execution_count": 8,
   "id": "d1b393d1",
   "metadata": {},
   "outputs": [
    {
     "name": "stdout",
     "output_type": "stream",
     "text": [
      "Bitwise NOT -3\n"
     ]
    }
   ],
   "source": [
    "x=2    #binary form 0010\n",
    "print(\"Bitwise NOT\", ~x)"
   ]
  },
  {
   "cell_type": "code",
   "execution_count": 9,
   "id": "e8e665ad",
   "metadata": {},
   "outputs": [
    {
     "name": "stdout",
     "output_type": "stream",
     "text": [
      "Bitwise XOR 20\n"
     ]
    }
   ],
   "source": [
    "x = 18   #binary form 10010\n",
    "y = 6    #binary form 0110\n",
    "print(\"Bitwise XOR\", x^y)"
   ]
  },
  {
   "cell_type": "code",
   "execution_count": 10,
   "id": "02f60452",
   "metadata": {},
   "outputs": [
    {
     "name": "stdout",
     "output_type": "stream",
     "text": [
      "Bitwise Left shift  12\n",
      "Bitwise Right shift 3\n"
     ]
    }
   ],
   "source": [
    "x = 6    #binary form 0110\n",
    "print(\"Bitwise Left shift \", x<<1)  #01100\n",
    "print(\"Bitwise Right shift\", x>>1)  #0011"
   ]
  },
  {
   "cell_type": "code",
   "execution_count": 11,
   "id": "8c1a5b48",
   "metadata": {},
   "outputs": [
    {
     "name": "stdout",
     "output_type": "stream",
     "text": [
      "133847440816\n",
      "<class 'float'>\n",
      "24\n",
      "23.17 is float? True\n"
     ]
    }
   ],
   "source": [
    "import sys\n",
    "v=23.17\n",
    "print(id(v))                                    #unique address\n",
    "print(type(v))                                  #data type of variable\n",
    "print(sys.getsizeof(v))                         #size of object in bytes\n",
    "print(v, \"is float?\", isinstance(v,float))      #isinstance checks data type"
   ]
  }
 ],
 "metadata": {
  "kernelspec": {
   "display_name": "Python 3 (ipykernel)",
   "language": "python",
   "name": "python3"
  },
  "language_info": {
   "codemirror_mode": {
    "name": "ipython",
    "version": 3
   },
   "file_extension": ".py",
   "mimetype": "text/x-python",
   "name": "python",
   "nbconvert_exporter": "python",
   "pygments_lexer": "ipython3",
   "version": "3.9.12"
  }
 },
 "nbformat": 4,
 "nbformat_minor": 5
}

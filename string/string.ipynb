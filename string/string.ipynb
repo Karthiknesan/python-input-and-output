{
 "cells": [
  {
   "cell_type": "markdown",
   "id": "214940c7",
   "metadata": {},
   "source": [
    "### program to print length of string\n"
   ]
  },
  {
   "cell_type": "code",
   "execution_count": 1,
   "id": "16fd8878",
   "metadata": {},
   "outputs": [
    {
     "name": "stdout",
     "output_type": "stream",
     "text": [
      "25\n"
     ]
    }
   ],
   "source": [
    "k=\"hi  i am Karthik Arumugam\"\n",
    "print(len(k))"
   ]
  },
  {
   "cell_type": "markdown",
   "id": "0d3cd58d",
   "metadata": {},
   "source": [
    "### program to count string"
   ]
  },
  {
   "cell_type": "code",
   "execution_count": 21,
   "id": "0432d223",
   "metadata": {},
   "outputs": [
    {
     "name": "stdout",
     "output_type": "stream",
     "text": [
      "py\n",
      "1\n",
      "2\n"
     ]
    }
   ],
   "source": [
    "m=input(\"enter string\")\n",
    "count=0\n",
    "for i in m:\n",
    "    count=count+1\n",
    "    print(count)\n",
    "    "
   ]
  },
  {
   "cell_type": "markdown",
   "id": "fffffd2c",
   "metadata": {},
   "source": [
    "### program to print palindrome"
   ]
  },
  {
   "cell_type": "code",
   "execution_count": 22,
   "id": "a97d49f1",
   "metadata": {},
   "outputs": [
    {
     "name": "stdout",
     "output_type": "stream",
     "text": [
      "Enter the string:  python\n",
      "This is not palindrome\n"
     ]
    }
   ],
   "source": [
    "string= str(input(\"Enter the string:  \"))\n",
    "if (string==string[::-1]):\n",
    "    print(\"This is palindrome\")\n",
    "else:\n",
    "    print(\"This is not palindrome\")"
   ]
  },
  {
   "cell_type": "markdown",
   "id": "c941fd54",
   "metadata": {},
   "source": [
    "### print strings in upper"
   ]
  },
  {
   "cell_type": "code",
   "execution_count": 25,
   "id": "977bdf6b",
   "metadata": {},
   "outputs": [
    {
     "data": {
      "text/plain": [
       "'HI  I AM KARTHIK ARUMUGAM'"
      ]
     },
     "execution_count": 25,
     "metadata": {},
     "output_type": "execute_result"
    }
   ],
   "source": [
    "k=\"hi  i am Karthik Arumugam\"\n",
    "k.upper()"
   ]
  },
  {
   "cell_type": "markdown",
   "id": "c1495b96",
   "metadata": {},
   "source": [
    "### print strings in lower case"
   ]
  },
  {
   "cell_type": "code",
   "execution_count": 26,
   "id": "2b2b81b6",
   "metadata": {},
   "outputs": [
    {
     "data": {
      "text/plain": [
       "'hi  i am karthik arumugam'"
      ]
     },
     "execution_count": 26,
     "metadata": {},
     "output_type": "execute_result"
    }
   ],
   "source": [
    "k=\"hi  i am Karthik Arumugam\"\n",
    "k.lower()"
   ]
  },
  {
   "cell_type": "markdown",
   "id": "e44332ed",
   "metadata": {},
   "source": [
    "### Prints the unique words in sorted form from a comma separated sequence of words"
   ]
  },
  {
   "cell_type": "code",
   "execution_count": 4,
   "id": "65c9966f",
   "metadata": {},
   "outputs": [
    {
     "name": "stdout",
     "output_type": "stream",
     "text": [
      "Input comma separated sequence of words    black,pink,red,green\n",
      "black,green,pink,red\n"
     ]
    }
   ],
   "source": [
    "items = input(\"Input comma separated sequence of words    \")\n",
    "words = [word for word in items.split(\",\")]\n",
    "print(\",\".join(sorted(list(set(words)))))"
   ]
  }
 ],
 "metadata": {
  "kernelspec": {
   "display_name": "Python 3 (ipykernel)",
   "language": "python",
   "name": "python3"
  },
  "language_info": {
   "codemirror_mode": {
    "name": "ipython",
    "version": 3
   },
   "file_extension": ".py",
   "mimetype": "text/x-python",
   "name": "python",
   "nbconvert_exporter": "python",
   "pygments_lexer": "ipython3",
   "version": "3.9.12"
  }
 },
 "nbformat": 4,
 "nbformat_minor": 5
}

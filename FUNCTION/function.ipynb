{
 "cells": [
  {
   "cell_type": "markdown",
   "id": "6cd64f1d",
   "metadata": {},
   "source": [
    "### find the maximum of num using function"
   ]
  },
  {
   "cell_type": "code",
   "execution_count": 1,
   "id": "fbe00f21",
   "metadata": {},
   "outputs": [
    {
     "name": "stdout",
     "output_type": "stream",
     "text": [
      "6\n"
     ]
    }
   ],
   "source": [
    "def f(a,b,c):\n",
    "    print(max(a,b,c))\n",
    "    \n",
    "f(2,3,6)"
   ]
  },
  {
   "cell_type": "markdown",
   "id": "fb42f847",
   "metadata": {},
   "source": [
    "### write a program to add all num in list using function"
   ]
  },
  {
   "cell_type": "code",
   "execution_count": 2,
   "id": "d273c215",
   "metadata": {},
   "outputs": [
    {
     "name": "stdout",
     "output_type": "stream",
     "text": [
      "[11, 12, 4, 3]\n",
      "sum of list: \n",
      "30\n"
     ]
    }
   ],
   "source": [
    "def add_list(list) :\n",
    "    count = 0\n",
    "    for i in list:\n",
    "         count = count + i\n",
    "    return count\n",
    "     \n",
    "\n",
    "list1 = [11, 12, 4, 3]\n",
    "print(list1)\n",
    "print(\"sum of list: \") \n",
    "print(add_list(list1))"
   ]
  },
  {
   "cell_type": "markdown",
   "id": "7fd262fc",
   "metadata": {},
   "source": [
    "### write a program to multiply all num in list using function"
   ]
  },
  {
   "cell_type": "code",
   "execution_count": 3,
   "id": "b0269feb",
   "metadata": {},
   "outputs": [
    {
     "name": "stdout",
     "output_type": "stream",
     "text": [
      "[11, 12, 4, 3]\n",
      "product: \n",
      "1584\n"
     ]
    }
   ],
   "source": [
    "def mul_list(list) :\n",
    "     \n",
    "    # Multiply elements one by one\n",
    "    product = 1\n",
    "    for i in list:\n",
    "         product = product * i\n",
    "    return product\n",
    "     \n",
    "\n",
    "list1 = [11, 12, 4, 3]\n",
    "print(list1)\n",
    "print(\"product: \") \n",
    "print(mul_list(list1))"
   ]
  },
  {
   "cell_type": "markdown",
   "id": "65f5cca0",
   "metadata": {},
   "source": [
    "### write a program to to reverse a string in list using function"
   ]
  },
  {
   "cell_type": "code",
   "execution_count": 4,
   "id": "9fbc077f",
   "metadata": {},
   "outputs": [
    {
     "name": "stdout",
     "output_type": "stream",
     "text": [
      "trats stel,!dlrow olleh\n"
     ]
    }
   ],
   "source": [
    "def my_function(x):\n",
    "    return x[::-1]\n",
    "\n",
    "mytxt = my_function(\"hello world!,lets start\")\n",
    "\n",
    "print(mytxt)"
   ]
  },
  {
   "cell_type": "markdown",
   "id": "7d6580ef",
   "metadata": {},
   "source": [
    "### write a program to find factorial  using function"
   ]
  },
  {
   "cell_type": "code",
   "execution_count": 5,
   "id": "4a632cac",
   "metadata": {},
   "outputs": [
    {
     "name": "stdout",
     "output_type": "stream",
     "text": [
      "The factorial of 6 is 720\n"
     ]
    }
   ],
   "source": [
    "def factorial(x):\n",
    "    if x == 1:\n",
    "        return 1\n",
    "    else:\n",
    "        return (x * factorial(x-1))\n",
    "\n",
    "\n",
    "num = 6\n",
    "result = factorial(num)\n",
    "print(\"The factorial of\", num, \"is\", result)"
   ]
  },
  {
   "cell_type": "markdown",
   "id": "f3699635",
   "metadata": {},
   "source": [
    "### write a program to count upper case and lower case in string  using function"
   ]
  },
  {
   "cell_type": "code",
   "execution_count": 6,
   "id": "74e1fc6e",
   "metadata": {},
   "outputs": [
    {
     "name": "stdout",
     "output_type": "stream",
     "text": [
      "Original String :  The quick Brown Fox\n",
      "No. of Upper case characters :  3\n",
      "No. of Lower case Characters :  13\n"
     ]
    }
   ],
   "source": [
    "def string_test(s):\n",
    "    UPPER_CASE=0\n",
    "    LOWER_CASE=0\n",
    "    for c in s:\n",
    "        if c.isupper():\n",
    "            UPPER_CASE+=1\n",
    "        elif c.islower():\n",
    "            LOWER_CASE+=1\n",
    "        else:\n",
    "            pass\n",
    "    print (\"Original String : \", s)\n",
    "    print (\"No. of Upper case characters : \", UPPER_CASE)\n",
    "    print (\"No. of Lower case Characters : \", LOWER_CASE)\n",
    "\n",
    "string_test('The quick Brown Fox')"
   ]
  },
  {
   "cell_type": "markdown",
   "id": "b735557f",
   "metadata": {},
   "source": [
    "### write a function to take that list and return new list with unique list"
   ]
  },
  {
   "cell_type": "code",
   "execution_count": 7,
   "id": "1d69ca88",
   "metadata": {},
   "outputs": [
    {
     "data": {
      "text/plain": [
       "[1, 2, 3, 4, 5]"
      ]
     },
     "execution_count": 7,
     "metadata": {},
     "output_type": "execute_result"
    }
   ],
   "source": [
    "def unique_list(l):\n",
    "    x = []\n",
    "    for a in l:\n",
    "        if a not in x:\n",
    "            x.append(a)\n",
    "    return x\n",
    "\n",
    "unique_list([1,2,3,3,3,3,4,5])"
   ]
  },
  {
   "cell_type": "code",
   "execution_count": null,
   "id": "d6d1d8dc",
   "metadata": {},
   "outputs": [],
   "source": []
  }
 ],
 "metadata": {
  "kernelspec": {
   "display_name": "Python 3 (ipykernel)",
   "language": "python",
   "name": "python3"
  },
  "language_info": {
   "codemirror_mode": {
    "name": "ipython",
    "version": 3
   },
   "file_extension": ".py",
   "mimetype": "text/x-python",
   "name": "python",
   "nbconvert_exporter": "python",
   "pygments_lexer": "ipython3",
   "version": "3.9.12"
  }
 },
 "nbformat": 4,
 "nbformat_minor": 5
}

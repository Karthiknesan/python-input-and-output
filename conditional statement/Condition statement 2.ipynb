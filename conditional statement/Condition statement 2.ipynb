{
 "cells": [
  {
   "cell_type": "markdown",
   "id": "5d3be570",
   "metadata": {},
   "source": [
    "### write a program to find a student is allowed to sit or not in exam his/her attendance is less than 75%"
   ]
  },
  {
   "cell_type": "code",
   "execution_count": 1,
   "id": "19b58818",
   "metadata": {},
   "outputs": [
    {
     "name": "stdout",
     "output_type": "stream",
     "text": [
      "Enter Total no. of class held: 70\n",
      "Enter Total no. of class attend: 54\n",
      "your allowed to sit in exam and your attendance is  77.14285714285715\n"
     ]
    }
   ],
   "source": [
    "no_of_class_held=int(input(\"Enter Total no. of class held: \"))\n",
    "no_of_class_attend=int(input(\"Enter Total no. of class attend: \"))\n",
    "percentage=(no_of_class_attend/no_of_class_held*100)\n",
    "if percentage >= 75:\n",
    "    print(\"your allowed to sit in exam and your attendance is \",percentage)\n",
    "else:\n",
    "    print(\"due to attendance shortage you are not allowed to sit in exam and your attendance is \",percentage)"
   ]
  }
 ],
 "metadata": {
  "kernelspec": {
   "display_name": "Python 3 (ipykernel)",
   "language": "python",
   "name": "python3"
  },
  "language_info": {
   "codemirror_mode": {
    "name": "ipython",
    "version": 3
   },
   "file_extension": ".py",
   "mimetype": "text/x-python",
   "name": "python",
   "nbconvert_exporter": "python",
   "pygments_lexer": "ipython3",
   "version": "3.9.12"
  }
 },
 "nbformat": 4,
 "nbformat_minor": 5
}

{
 "cells": [
  {
   "cell_type": "markdown",
   "id": "2d47a216",
   "metadata": {},
   "source": [
    "### program to check the alphabet is vowals or consonant"
   ]
  },
  {
   "cell_type": "code",
   "execution_count": 4,
   "id": "85a07784",
   "metadata": {},
   "outputs": [
    {
     "name": "stdout",
     "output_type": "stream",
     "text": [
      "Input a letter of the alphabet: a\n",
      "a is a vowel.\n"
     ]
    }
   ],
   "source": [
    "n = input(\"Input a letter of the alphabet: \")\n",
    "\n",
    "if n in ('a', 'e', 'i', 'o', 'u'):\n",
    "\tprint(\"%s is a vowel.\" % n)\n",
    "elif n == 'y':\n",
    "\tprint(\"Sometimes letter y stand for vowel, sometimes stand for consonant.\")\n",
    "else:\n",
    "\tprint(\"%s is a consonant.\" %n) "
   ]
  },
  {
   "cell_type": "markdown",
   "id": "0c745116",
   "metadata": {},
   "source": [
    "### program to check voter is  eligble or not"
   ]
  },
  {
   "cell_type": "code",
   "execution_count": 7,
   "id": "f8f2b2c2",
   "metadata": {},
   "outputs": [
    {
     "name": "stdout",
     "output_type": "stream",
     "text": [
      "Enter a number 18\n",
      "your eligble to  vote 18\n"
     ]
    }
   ],
   "source": [
    "n = int(input(\"Enter a number \"))\n",
    "if n >=18:\n",
    "    print(\"your eligble to  vote\",n)\n",
    "else:\n",
    "    print(\"you are not eligble \",n)"
   ]
  },
  {
   "cell_type": "markdown",
   "id": "6c88eac3",
   "metadata": {},
   "source": [
    "### program to check numbers are positive,negative and zero"
   ]
  },
  {
   "cell_type": "code",
   "execution_count": 9,
   "id": "ab36034a",
   "metadata": {},
   "outputs": [
    {
     "name": "stdout",
     "output_type": "stream",
     "text": [
      "Enter a number0\n",
      "given no. is zero\n"
     ]
    }
   ],
   "source": [
    "n = int(input(\"Enter a number\"))\n",
    "if n >=1:\n",
    "    print(\"given no. is positive\",n)\n",
    "elif n < 0:\n",
    "    print(\"given no. is negative \",n)\n",
    "elif n == 0:\n",
    "    print(\"given no. is zero\")"
   ]
  },
  {
   "cell_type": "markdown",
   "id": "a609cecf",
   "metadata": {},
   "source": [
    "### program to Check a triangle is equilateral, isosceles or scalene"
   ]
  },
  {
   "cell_type": "code",
   "execution_count": 10,
   "id": "a185b795",
   "metadata": {},
   "outputs": [
    {
     "name": "stdout",
     "output_type": "stream",
     "text": [
      "Input lengths of the triangle sides: \n",
      "x: 3\n",
      "y: 3\n",
      "z: 3\n",
      "Equilateral triangle\n"
     ]
    }
   ],
   "source": [
    "print(\"Input lengths of the triangle sides: \")\n",
    "x = int(input(\"x: \"))\n",
    "y = int(input(\"y: \"))\n",
    "z = int(input(\"z: \"))\n",
    "\n",
    "if x == y == z:\n",
    "    print(\"Equilateral triangle\")\n",
    "elif x==y or y==z or z==x:\n",
    "    print(\"isosceles triangle\")\n",
    "else:\n",
    "    print(\"Scalene triangle\")\n"
   ]
  },
  {
   "cell_type": "markdown",
   "id": "11bfd6b8",
   "metadata": {},
   "source": [
    "### program to check selling a product is profit or loss"
   ]
  },
  {
   "cell_type": "code",
   "execution_count": 15,
   "id": "b6a78436",
   "metadata": {},
   "outputs": [
    {
     "name": "stdout",
     "output_type": "stream",
     "text": [
      "Enter a product price 10\n",
      "enter a selling price 8\n",
      "your are in loss  -2\n"
     ]
    }
   ],
   "source": [
    "product_price = int(input(\"Enter a product price \"))\n",
    "selling_price = int(input(\"enter a selling price \"))\n",
    "profit =selling_price-product_price \n",
    "if profit > 0:\n",
    "    print(\"your are profit is \",profit)\n",
    "else:\n",
    "    print(\"your are in loss \",profit)"
   ]
  },
  {
   "cell_type": "markdown",
   "id": "9bfde94b",
   "metadata": {},
   "source": [
    "#### print program enter two number and print greatest number"
   ]
  },
  {
   "cell_type": "code",
   "execution_count": 16,
   "id": "973ae84a",
   "metadata": {},
   "outputs": [
    {
     "name": "stdout",
     "output_type": "stream",
     "text": [
      "Enter a number 10\n",
      "Enter a number 20\n",
      "20  is greatest number\n"
     ]
    }
   ],
   "source": [
    "a = int(input(\"Enter a number \"))\n",
    "b = int(input(\"Enter a number \"))\n",
    "if a>b:\n",
    "    print(a,\" is greatest number\")\n",
    "else :\n",
    "    print(b,\" is greatest number\")"
   ]
  },
  {
   "cell_type": "markdown",
   "id": "8dcf1868",
   "metadata": {},
   "source": [
    "#### print program enter two number and print smallest number"
   ]
  },
  {
   "cell_type": "code",
   "execution_count": 18,
   "id": "9c96a42c",
   "metadata": {},
   "outputs": [
    {
     "name": "stdout",
     "output_type": "stream",
     "text": [
      "Enter a number 10\n",
      "Enter a number 13\n",
      "10  is smallest number\n"
     ]
    }
   ],
   "source": [
    "a = int(input(\"Enter a number \"))\n",
    "b = int(input(\"Enter a number \"))\n",
    "if a>b:\n",
    "    print(b,\" is smallest number\")\n",
    "else :\n",
    "    print(a,\" is smallest number\")"
   ]
  },
  {
   "cell_type": "markdown",
   "id": "b475b724",
   "metadata": {},
   "source": [
    "#### print program enter three number and print smallest number"
   ]
  },
  {
   "cell_type": "code",
   "execution_count": 20,
   "id": "f4339e0b",
   "metadata": {},
   "outputs": [
    {
     "name": "stdout",
     "output_type": "stream",
     "text": [
      "Enter a number 10\n",
      "Enter a number 20\n",
      "Enter a number 30\n",
      "10  is smallest number\n"
     ]
    }
   ],
   "source": [
    "a = int(input(\"Enter a number \"))\n",
    "b = int(input(\"Enter a number \"))\n",
    "c = int(input(\"Enter a number \"))\n",
    "if a>b:\n",
    "    print(b,\" is smallest number\")\n",
    "elif b>c: \n",
    "    print(c,\" is smallest number\")\n",
    "elif c>a:\n",
    "    print(a,\" is smallest number\")"
   ]
  },
  {
   "cell_type": "markdown",
   "id": "5d654c5c",
   "metadata": {},
   "source": [
    "#### print program enter three number and print greates tnumber"
   ]
  },
  {
   "cell_type": "code",
   "execution_count": 21,
   "id": "66a3b924",
   "metadata": {},
   "outputs": [
    {
     "name": "stdout",
     "output_type": "stream",
     "text": [
      "Enter a number 10\n",
      "Enter a number 20\n",
      "Enter a number 30\n",
      "30  is greatest number\n"
     ]
    }
   ],
   "source": [
    "a = int(input(\"Enter a number \"))\n",
    "b = int(input(\"Enter a number \"))\n",
    "c = int(input(\"Enter a number \"))\n",
    "if a>b:\n",
    "    print(a,\" is greates number\")\n",
    "elif b>c: \n",
    "    print(b,\" is greates number\")\n",
    "elif c>a:\n",
    "    print(c,\" is greatest number\")"
   ]
  },
  {
   "cell_type": "markdown",
   "id": "6b85e345",
   "metadata": {},
   "source": [
    "### program to calculate the root of quadratic equation"
   ]
  },
  {
   "cell_type": "code",
   "execution_count": 12,
   "id": "dcac6e7d",
   "metadata": {},
   "outputs": [
    {
     "name": "stdout",
     "output_type": "stream",
     "text": [
      "Equation: ax^2 + bx + c \n",
      "Enter a: 2\n",
      "Enter b: 2\n",
      "Enter c: 1\n",
      "The roots are imaginary. \n"
     ]
    }
   ],
   "source": [
    "print(\"Equation: ax^2 + bx + c \")\n",
    "a=int(input(\"Enter a: \"))\n",
    "b=int(input(\"Enter b: \"))\n",
    "c=int(input(\"Enter c: \"))\n",
    "d=b**2-4*a*c\n",
    "d1=d**0.5\n",
    "if(d<0):\n",
    "    print(\"The roots are imaginary. \")\n",
    "else:\n",
    "    r1=(-b+d1)/2*a\n",
    "    r2=(-b-d1)/2*a\n",
    "    print(\"The first root: \",round(r1,2))\n",
    "    print(\"The second root: \",round(r2,2)) "
   ]
  },
  {
   "cell_type": "markdown",
   "id": "2d1e18ad",
   "metadata": {},
   "source": [
    "### program to enter the number(1-7) and print days of the week"
   ]
  },
  {
   "cell_type": "code",
   "execution_count": 14,
   "id": "ef53ff95",
   "metadata": {},
   "outputs": [
    {
     "name": "stdout",
     "output_type": "stream",
     "text": [
      "Enter a number 1 to 7: 6\n",
      "saturday\n"
     ]
    }
   ],
   "source": [
    "n = int(input(\"Enter a number 1 to 7: \"))\n",
    "if n == 1:\n",
    "    print(\"monday\")\n",
    "elif n == 2:\n",
    "    print(\"tuesday\")\n",
    "elif n == 3:\n",
    "    print(\"wednesday\")\n",
    "elif n == 4:\n",
    "    print(\"thursday\")\n",
    "elif n == 5:\n",
    "    print(\"friday\")\n",
    "elif n == 6:\n",
    "    print(\"saturday\")\n",
    "elif n == 7:\n",
    "    print(\"sunday\")\n",
    "    "
   ]
  },
  {
   "cell_type": "markdown",
   "id": "fd6f4edf",
   "metadata": {},
   "source": [
    "### program to enter the number(1-12) and print days of the month"
   ]
  },
  {
   "cell_type": "code",
   "execution_count": 29,
   "id": "bad7dc9c",
   "metadata": {},
   "outputs": [
    {
     "name": "stdout",
     "output_type": "stream",
     "text": [
      "Enter the month number: 6\n",
      "June\n"
     ]
    }
   ],
   "source": [
    "x = int(input(\"Enter the month number: \"))\n",
    "if (x==1):\n",
    "    print (\"January\")\n",
    "if (x==2):\n",
    "    print(\"Febuary\")\n",
    "if (x==3):\n",
    "    print(\"March\")\n",
    "if (x==4):\n",
    "    print(\"April\")\n",
    "if (x==5):\n",
    "    print(\"May\")\n",
    "if (x==6):\n",
    "    print(\"June\")\n",
    "if (x==7):\n",
    "    print(\"July\")\n",
    "if (x==8):\n",
    "    print(\"August\")\n",
    "if (x==9):\n",
    "    print(\"September\")\n",
    "if (x==10):\n",
    "    print(\"October\")\n",
    "if (x==11):\n",
    "    print(\"November\")\n",
    "if (x==12):\n",
    "    print(\"December\")\n"
   ]
  },
  {
   "cell_type": "markdown",
   "id": "5e408811",
   "metadata": {},
   "source": [
    "### program to entera number(1-4)and perform operators"
   ]
  },
  {
   "cell_type": "code",
   "execution_count": 14,
   "id": "41504027",
   "metadata": {},
   "outputs": [
    {
     "name": "stdout",
     "output_type": "stream",
     "text": [
      "\n",
      "1.addition\n",
      "2.subraction\n",
      "3.multipilcatin\n",
      "4.division\n",
      " Enter a number 1 to 4 3\n",
      "Enter a number 2\n",
      "Enter a number 3\n",
      "Your multiplication is 6\n"
     ]
    }
   ],
   "source": [
    "n = int(input(\"\\n1.addition\\n2.subraction\\n3.multipilcatin\\n4.division\\n Enter a number 1 to 4 \"))\n",
    "a = int(input(\"Enter a number \"))\n",
    "b = int(input(\"Enter a number \"))\n",
    "if n==1:\n",
    "    print(\"Your Addition is \",a+b)\n",
    "if n==2:\n",
    "    print(\"Your Subraction is\",a-b)\n",
    "if n==3:\n",
    "    print(\"Your multiplication is\",a*b)\n",
    "if n==4:\n",
    "    print(\"Your divison is \",a/b)"
   ]
  },
  {
   "cell_type": "markdown",
   "id": "1d05c3c1",
   "metadata": {},
   "source": [
    "### program to print hello python 10 times"
   ]
  },
  {
   "cell_type": "code",
   "execution_count": 2,
   "id": "978769d0",
   "metadata": {},
   "outputs": [
    {
     "name": "stdout",
     "output_type": "stream",
     "text": [
      "hello python\n",
      "hello python\n",
      "hello python\n",
      "hello python\n",
      "hello python\n",
      "hello python\n",
      "hello python\n",
      "hello python\n",
      "hello python\n",
      "hello python\n"
     ]
    }
   ],
   "source": [
    "i = 0;\n",
    "while i < 10:\n",
    "    print(\"hello python\")\n",
    "    i += 1\n"
   ]
  },
  {
   "cell_type": "markdown",
   "id": "98ceceff",
   "metadata": {},
   "source": [
    "### program to print number from 1 to 10"
   ]
  },
  {
   "cell_type": "code",
   "execution_count": 3,
   "id": "d32e4d53",
   "metadata": {},
   "outputs": [
    {
     "name": "stdout",
     "output_type": "stream",
     "text": [
      "1\n",
      "2\n",
      "3\n",
      "4\n",
      "5\n",
      "6\n",
      "7\n",
      "8\n",
      "9\n",
      "10\n"
     ]
    }
   ],
   "source": [
    "for i in range(1,11):\n",
    "    print(i)"
   ]
  },
  {
   "cell_type": "markdown",
   "id": "9f10dc00",
   "metadata": {},
   "source": [
    "### program to print table of a number"
   ]
  },
  {
   "cell_type": "code",
   "execution_count": 5,
   "id": "92f35e3d",
   "metadata": {},
   "outputs": [
    {
     "name": "stdout",
     "output_type": "stream",
     "text": [
      "Enter the number of which the user wants to print the multiplication table: 5\n",
      "The Multiplication Table of:  5\n",
      "5 x 1 = 5\n",
      "5 x 2 = 10\n",
      "5 x 3 = 15\n",
      "5 x 4 = 20\n",
      "5 x 5 = 25\n",
      "5 x 6 = 30\n",
      "5 x 7 = 35\n",
      "5 x 8 = 40\n",
      "5 x 9 = 45\n",
      "5 x 10 = 50\n"
     ]
    }
   ],
   "source": [
    "number = int(input (\"Enter the number of which the user wants to print the multiplication table: \"))      \n",
    "print (\"The Multiplication Table of: \", number)    \n",
    "for i in range(1, 11):      \n",
    "   print (number, 'x', i, '=', number * i)"
   ]
  },
  {
   "cell_type": "markdown",
   "id": "d5135fde",
   "metadata": {},
   "source": [
    "### program to find even number from 1 to 100 "
   ]
  },
  {
   "cell_type": "code",
   "execution_count": 7,
   "id": "2749dcdf",
   "metadata": {},
   "outputs": [
    {
     "name": "stdout",
     "output_type": "stream",
     "text": [
      "given no. is not even number 1\n",
      "given no. is even 2\n",
      "given no. is not even number 3\n",
      "given no. is even 4\n",
      "given no. is not even number 5\n",
      "given no. is even 6\n",
      "given no. is not even number 7\n",
      "given no. is even 8\n",
      "given no. is not even number 9\n",
      "given no. is even 10\n",
      "given no. is not even number 11\n",
      "given no. is even 12\n",
      "given no. is not even number 13\n",
      "given no. is even 14\n",
      "given no. is not even number 15\n",
      "given no. is even 16\n",
      "given no. is not even number 17\n",
      "given no. is even 18\n",
      "given no. is not even number 19\n",
      "given no. is even 20\n",
      "given no. is not even number 21\n",
      "given no. is even 22\n",
      "given no. is not even number 23\n",
      "given no. is even 24\n",
      "given no. is not even number 25\n",
      "given no. is even 26\n",
      "given no. is not even number 27\n",
      "given no. is even 28\n",
      "given no. is not even number 29\n",
      "given no. is even 30\n",
      "given no. is not even number 31\n",
      "given no. is even 32\n",
      "given no. is not even number 33\n",
      "given no. is even 34\n",
      "given no. is not even number 35\n",
      "given no. is even 36\n",
      "given no. is not even number 37\n",
      "given no. is even 38\n",
      "given no. is not even number 39\n",
      "given no. is even 40\n",
      "given no. is not even number 41\n",
      "given no. is even 42\n",
      "given no. is not even number 43\n",
      "given no. is even 44\n",
      "given no. is not even number 45\n",
      "given no. is even 46\n",
      "given no. is not even number 47\n",
      "given no. is even 48\n",
      "given no. is not even number 49\n",
      "given no. is even 50\n",
      "given no. is not even number 51\n",
      "given no. is even 52\n",
      "given no. is not even number 53\n",
      "given no. is even 54\n",
      "given no. is not even number 55\n",
      "given no. is even 56\n",
      "given no. is not even number 57\n",
      "given no. is even 58\n",
      "given no. is not even number 59\n",
      "given no. is even 60\n",
      "given no. is not even number 61\n",
      "given no. is even 62\n",
      "given no. is not even number 63\n",
      "given no. is even 64\n",
      "given no. is not even number 65\n",
      "given no. is even 66\n",
      "given no. is not even number 67\n",
      "given no. is even 68\n",
      "given no. is not even number 69\n",
      "given no. is even 70\n",
      "given no. is not even number 71\n",
      "given no. is even 72\n",
      "given no. is not even number 73\n",
      "given no. is even 74\n",
      "given no. is not even number 75\n",
      "given no. is even 76\n",
      "given no. is not even number 77\n",
      "given no. is even 78\n",
      "given no. is not even number 79\n",
      "given no. is even 80\n",
      "given no. is not even number 81\n",
      "given no. is even 82\n",
      "given no. is not even number 83\n",
      "given no. is even 84\n",
      "given no. is not even number 85\n",
      "given no. is even 86\n",
      "given no. is not even number 87\n",
      "given no. is even 88\n",
      "given no. is not even number 89\n",
      "given no. is even 90\n",
      "given no. is not even number 91\n",
      "given no. is even 92\n",
      "given no. is not even number 93\n",
      "given no. is even 94\n",
      "given no. is not even number 95\n",
      "given no. is even 96\n",
      "given no. is not even number 97\n",
      "given no. is even 98\n",
      "given no. is not even number 99\n",
      "given no. is even 100\n"
     ]
    }
   ],
   "source": [
    "for i in range(1,101):\n",
    "    if i%2 ==0:\n",
    "        print(\"given no. is even\",i)\n",
    "    else:\n",
    "        print(\"given no. is not even number\",i)"
   ]
  },
  {
   "cell_type": "markdown",
   "id": "5ba725da",
   "metadata": {},
   "source": [
    "### program to find odd number from 1 to 100 "
   ]
  },
  {
   "cell_type": "code",
   "execution_count": 9,
   "id": "af3757a4",
   "metadata": {},
   "outputs": [
    {
     "name": "stdout",
     "output_type": "stream",
     "text": [
      "given no. is odd number 1\n",
      "given no. is not odd number 2\n",
      "given no. is odd number 3\n",
      "given no. is not odd number 4\n",
      "given no. is odd number 5\n",
      "given no. is not odd number 6\n",
      "given no. is odd number 7\n",
      "given no. is not odd number 8\n",
      "given no. is odd number 9\n",
      "given no. is not odd number 10\n",
      "given no. is odd number 11\n",
      "given no. is not odd number 12\n",
      "given no. is odd number 13\n",
      "given no. is not odd number 14\n",
      "given no. is odd number 15\n",
      "given no. is not odd number 16\n",
      "given no. is odd number 17\n",
      "given no. is not odd number 18\n",
      "given no. is odd number 19\n",
      "given no. is not odd number 20\n",
      "given no. is odd number 21\n",
      "given no. is not odd number 22\n",
      "given no. is odd number 23\n",
      "given no. is not odd number 24\n",
      "given no. is odd number 25\n",
      "given no. is not odd number 26\n",
      "given no. is odd number 27\n",
      "given no. is not odd number 28\n",
      "given no. is odd number 29\n",
      "given no. is not odd number 30\n",
      "given no. is odd number 31\n",
      "given no. is not odd number 32\n",
      "given no. is odd number 33\n",
      "given no. is not odd number 34\n",
      "given no. is odd number 35\n",
      "given no. is not odd number 36\n",
      "given no. is odd number 37\n",
      "given no. is not odd number 38\n",
      "given no. is odd number 39\n",
      "given no. is not odd number 40\n",
      "given no. is odd number 41\n",
      "given no. is not odd number 42\n",
      "given no. is odd number 43\n",
      "given no. is not odd number 44\n",
      "given no. is odd number 45\n",
      "given no. is not odd number 46\n",
      "given no. is odd number 47\n",
      "given no. is not odd number 48\n",
      "given no. is odd number 49\n",
      "given no. is not odd number 50\n",
      "given no. is odd number 51\n",
      "given no. is not odd number 52\n",
      "given no. is odd number 53\n",
      "given no. is not odd number 54\n",
      "given no. is odd number 55\n",
      "given no. is not odd number 56\n",
      "given no. is odd number 57\n",
      "given no. is not odd number 58\n",
      "given no. is odd number 59\n",
      "given no. is not odd number 60\n",
      "given no. is odd number 61\n",
      "given no. is not odd number 62\n",
      "given no. is odd number 63\n",
      "given no. is not odd number 64\n",
      "given no. is odd number 65\n",
      "given no. is not odd number 66\n",
      "given no. is odd number 67\n",
      "given no. is not odd number 68\n",
      "given no. is odd number 69\n",
      "given no. is not odd number 70\n",
      "given no. is odd number 71\n",
      "given no. is not odd number 72\n",
      "given no. is odd number 73\n",
      "given no. is not odd number 74\n",
      "given no. is odd number 75\n",
      "given no. is not odd number 76\n",
      "given no. is odd number 77\n",
      "given no. is not odd number 78\n",
      "given no. is odd number 79\n",
      "given no. is not odd number 80\n",
      "given no. is odd number 81\n",
      "given no. is not odd number 82\n",
      "given no. is odd number 83\n",
      "given no. is not odd number 84\n",
      "given no. is odd number 85\n",
      "given no. is not odd number 86\n",
      "given no. is odd number 87\n",
      "given no. is not odd number 88\n",
      "given no. is odd number 89\n",
      "given no. is not odd number 90\n",
      "given no. is odd number 91\n",
      "given no. is not odd number 92\n",
      "given no. is odd number 93\n",
      "given no. is not odd number 94\n",
      "given no. is odd number 95\n",
      "given no. is not odd number 96\n",
      "given no. is odd number 97\n",
      "given no. is not odd number 98\n",
      "given no. is odd number 99\n",
      "given no. is not odd number 100\n"
     ]
    }
   ],
   "source": [
    "for i in range(1,101):\n",
    "    if i%2 !=0:\n",
    "        print(\"given no. is odd number\",i)\n",
    "    else:\n",
    "        print(\"given no. is not odd number\",i)"
   ]
  },
  {
   "cell_type": "markdown",
   "id": "30c16bd1",
   "metadata": {},
   "source": [
    "### program to print grade"
   ]
  },
  {
   "cell_type": "code",
   "execution_count": 6,
   "id": "7b9f20f7",
   "metadata": {},
   "outputs": [
    {
     "name": "stdout",
     "output_type": "stream",
     "text": [
      "Enter Marks Obtained in 5 Subjects: \n",
      "40\n",
      "50\n",
      "50\n",
      "60\n",
      "70\n",
      "Your Grade is C+\n"
     ]
    }
   ],
   "source": [
    "print(\"Enter Marks Obtained in 5 Subjects: \")\n",
    "maths = int(input())\n",
    "english = int(input())\n",
    "science = int(input())\n",
    "computer = int(input())\n",
    "evs = int(input())\n",
    "\n",
    "total = maths +english+science+computer+evs\n",
    "avg = total/5\n",
    "\n",
    "if avg>=91 and avg<=100:\n",
    "    print(\"Your Grade is A+\")\n",
    "elif avg>=81 and avg<91:\n",
    "    print(\"Your Grade is A-\")\n",
    "elif avg>=71 and avg<81:\n",
    "    print(\"Your Grade is B+\")\n",
    "elif avg>=61 and avg<71:\n",
    "    print(\"Your Grade is B-\")\n",
    "elif avg>=51 and avg<61:\n",
    "    print(\"Your Grade is C+\")\n",
    "elif avg>=41 and avg<51:\n",
    "    print(\"Your Grade is C-\")\n",
    "elif avg>=35 and avg<41:\n",
    "    print(\"Your Grade is D+\")\n",
    "elif avg>=0 and avg<35:\n",
    "    print(\"Your Grade is f\")"
   ]
  },
  {
   "cell_type": "markdown",
   "id": "5858401d",
   "metadata": {},
   "source": [
    "### program to  give bonus more than 5 years"
   ]
  },
  {
   "cell_type": "code",
   "execution_count": 1,
   "id": "b2abd514",
   "metadata": {},
   "outputs": [
    {
     "name": "stdout",
     "output_type": "stream",
     "text": [
      "enter salary\n",
      "50000\n",
      "enter year of service\n",
      "5\n",
      "bonus is 2500.0\n"
     ]
    }
   ],
   "source": [
    "print (\"enter salary\")\n",
    "salary = int(input())\n",
    "print (\"enter year of service\")\n",
    "years = int(input())\n",
    "if years>4:\n",
    "    s=0.05 * salary\n",
    "    print (\"bonus is\",s)\n",
    "else:\n",
    "    print (\"no bonus\")"
   ]
  },
  {
   "cell_type": "markdown",
   "id": "a0eae891",
   "metadata": {},
   "source": [
    "### program to check rectangle or square "
   ]
  },
  {
   "cell_type": "code",
   "execution_count": 4,
   "id": "a2f44399",
   "metadata": {},
   "outputs": [
    {
     "name": "stdout",
     "output_type": "stream",
     "text": [
      "enter a length5\n",
      "enter a breadth5\n",
      "given measurment  is square\n"
     ]
    }
   ],
   "source": [
    "a = int(input(\"enter a length\"))\n",
    "b = int(input(\"enter a breadth\"))\n",
    "if a==b:\n",
    "    print(\"given measurment  is square\")\n",
    "else:\n",
    "    print(\"given measurment  is rectangle\")"
   ]
  },
  {
   "cell_type": "markdown",
   "id": "20874784",
   "metadata": {},
   "source": [
    "### program to find 3 input age to  youngest and oldest among them"
   ]
  },
  {
   "cell_type": "code",
   "execution_count": 8,
   "id": "d9c9fcc3",
   "metadata": {},
   "outputs": [
    {
     "name": "stdout",
     "output_type": "stream",
     "text": [
      "enter age1: 20\n",
      "enter age2: 30\n",
      "enter age3: 10\n",
      "age2 is oldest  30\n",
      "age3 is youngest  10\n"
     ]
    }
   ],
   "source": [
    "age1=int(input('enter age1: '))\n",
    "age2=int(input('enter age2: '))\n",
    "age3=int(input('enter age3: '))\n",
    "if age1>age2 and age1>age3:\n",
    "    print(\"age1 is oldest1 \",age1)\n",
    "elif age2>age1 and age2>age3:\n",
    "    print(\"age2 is oldest \",age2)\n",
    "else:\n",
    "    print(\"age3 is oldest \",age3)\n",
    "if age1<age2 and age1<age3:\n",
    "    print(\"age1 is youngest \",age1)\n",
    "elif age2<age1 and age2<age3:\n",
    "    print(\"age2 is youngest \",age2)\n",
    "else:\n",
    "     print(\"age3 is youngest \",age3)"
   ]
  },
  {
   "cell_type": "markdown",
   "id": "1d363095",
   "metadata": {},
   "source": [
    "### menu driven program"
   ]
  },
  {
   "cell_type": "code",
   "execution_count": 1,
   "id": "113256ca",
   "metadata": {},
   "outputs": [
    {
     "name": "stdout",
     "output_type": "stream",
     "text": [
      "CALCULATE AREA\n",
      "1. Circle\n",
      "2. Rectangle\n",
      "3. Square\n",
      "Enter the number of shape:1\n",
      "Enter Radius of Circle:5\n",
      "area of circle 78.5\n"
     ]
    }
   ],
   "source": [
    "print(\"CALCULATE AREA\")  \n",
    "print(\"1. Circle\")  \n",
    "print(\"2. Rectangle\")  \n",
    "print(\"3. Square\")   \n",
    "a = int(input(\"Enter the number of shape:\"))  \n",
    "if a == 1:  \n",
    "    r = int(input(\"Enter Radius of Circle:\"))  \n",
    "    area = 3.14*r*r\n",
    "    print(\"area of circle\",area)\n",
    "    if a == 2:  \n",
    "        h = int(input(\"Enter Height of Rectangle:\"))  \n",
    "        w = int(input(\"Enter Width of Rectangle:\"))  \n",
    "        rectangle(h, w)\n",
    "        area = h*w\n",
    "        print(\"area of rectangle\",area)\n",
    "        if a == 3:  \n",
    "            l = int(input(\"Enter Side of Square:\"))  \n",
    "            square(l)\n",
    "            area=l*l\n",
    "            print(\"area of square\",area)\n",
    "else:  \n",
    "    print(\"Incorrect Choice:\")\n",
    "  "
   ]
  }
 ],
 "metadata": {
  "kernelspec": {
   "display_name": "Python 3 (ipykernel)",
   "language": "python",
   "name": "python3"
  },
  "language_info": {
   "codemirror_mode": {
    "name": "ipython",
    "version": 3
   },
   "file_extension": ".py",
   "mimetype": "text/x-python",
   "name": "python",
   "nbconvert_exporter": "python",
   "pygments_lexer": "ipython3",
   "version": "3.9.12"
  }
 },
 "nbformat": 4,
 "nbformat_minor": 5
}

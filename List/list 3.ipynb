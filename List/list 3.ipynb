{
 "cells": [
  {
   "cell_type": "markdown",
   "id": "814e4836",
   "metadata": {},
   "source": [
    "### write a program to Copy list"
   ]
  },
  {
   "cell_type": "code",
   "execution_count": 1,
   "id": "53a1ba64",
   "metadata": {},
   "outputs": [
    {
     "name": "stdout",
     "output_type": "stream",
     "text": [
      "Copy List: ['cat', 0, 6.7]\n"
     ]
    }
   ],
   "source": [
    "my_list = ['cat', 0, 6.7]\n",
    "new_list = my_list.copy()\n",
    "print('Copy List:', new_list)"
   ]
  },
  {
   "cell_type": "markdown",
   "id": "49065ae6",
   "metadata": {},
   "source": [
    "### write a program to find second smallest number"
   ]
  },
  {
   "cell_type": "code",
   "execution_count": 2,
   "id": "6a2eba06",
   "metadata": {},
   "outputs": [
    {
     "name": "stdout",
     "output_type": "stream",
     "text": [
      "2\n"
     ]
    }
   ],
   "source": [
    "mylist=[1,2,3,4]\n",
    "mylist=[x for x in mylist if x!=min(mylist)]  \n",
    "print(min(mylist))"
   ]
  },
  {
   "cell_type": "markdown",
   "id": "0178d601",
   "metadata": {},
   "source": [
    "### write a program to find second largest number in list"
   ]
  },
  {
   "cell_type": "code",
   "execution_count": 3,
   "id": "d07aba69",
   "metadata": {},
   "outputs": [
    {
     "name": "stdout",
     "output_type": "stream",
     "text": [
      "The second largest element of the list is: 30\n"
     ]
    }
   ],
   "source": [
    "list_val = [20, 30, 40, 25, 10]    \n",
    "list_val.sort()  \n",
    "print(\"The second largest element of the list is:\", list_val[-2])  "
   ]
  },
  {
   "cell_type": "markdown",
   "id": "0d7b267e",
   "metadata": {},
   "source": [
    "### write a program to get unique valeue from list"
   ]
  },
  {
   "cell_type": "code",
   "execution_count": 4,
   "id": "650eae6a",
   "metadata": {},
   "outputs": [
    {
     "name": "stdout",
     "output_type": "stream",
     "text": [
      "Original List :  [10, 20, 30, 40, 20, 50, 60, 40]\n",
      "List of unique numbers :  [40, 10, 50, 20, 60, 30]\n"
     ]
    }
   ],
   "source": [
    "my_list = [10, 20, 30, 40, 20, 50, 60, 40]\n",
    "print(\"Original List : \",my_list)\n",
    "my_set = set(my_list)\n",
    "my_new_list = list(my_set)\n",
    "print(\"List of unique numbers : \",my_new_list)\n"
   ]
  },
  {
   "cell_type": "markdown",
   "id": "85ed21fc",
   "metadata": {},
   "source": [
    "### write a program to get frequency of element in list"
   ]
  },
  {
   "cell_type": "code",
   "execution_count": 5,
   "id": "036962bc",
   "metadata": {},
   "outputs": [
    {
     "name": "stdout",
     "output_type": "stream",
     "text": [
      "Input list is: [1, 2, 3, 4, 1, 3, 46, 7, 2, 3, 5, 6, 10]\n",
      "Frequency of elements is:\n",
      "{1: 2, 2: 2, 3: 3, 4: 1, 46: 1, 7: 1, 5: 1, 6: 1, 10: 1}\n"
     ]
    }
   ],
   "source": [
    "myList = [1, 2, 3, 4, 1, 3, 46, 7, 2, 3, 5, 6, 10]\n",
    "frequency= dict()\n",
    "for i in myList:\n",
    "    try:\n",
    "        frequency[i]= frequency[i]+ 1\n",
    "    except KeyError:\n",
    "        frequency[i] = 1\n",
    "print(\"Input list is:\", myList)\n",
    "print(\"Frequency of elements is:\")\n",
    "print(frequency)"
   ]
  }
 ],
 "metadata": {
  "kernelspec": {
   "display_name": "Python 3 (ipykernel)",
   "language": "python",
   "name": "python3"
  },
  "language_info": {
   "codemirror_mode": {
    "name": "ipython",
    "version": 3
   },
   "file_extension": ".py",
   "mimetype": "text/x-python",
   "name": "python",
   "nbconvert_exporter": "python",
   "pygments_lexer": "ipython3",
   "version": "3.9.12"
  }
 },
 "nbformat": 4,
 "nbformat_minor": 5
}

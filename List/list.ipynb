{
 "cells": [
  {
   "cell_type": "markdown",
   "id": "b2c3ba90",
   "metadata": {},
   "source": [
    "### sum of all items in a list"
   ]
  },
  {
   "cell_type": "code",
   "execution_count": 1,
   "id": "b63be6b4",
   "metadata": {},
   "outputs": [
    {
     "name": "stdout",
     "output_type": "stream",
     "text": [
      "sum of list = karthik6text8cherry\n"
     ]
    }
   ],
   "source": [
    "lst = ['karthik','6','text','8','cherry']\n",
    "add = lst[0]+lst[1]+lst[2]+lst[3]+lst[4]\n",
    "print('sum of list =', add)"
   ]
  },
  {
   "cell_type": "markdown",
   "id": "1c61cb17",
   "metadata": {},
   "source": [
    "### Multiply all items in list"
   ]
  },
  {
   "cell_type": "code",
   "execution_count": 2,
   "id": "054e5437",
   "metadata": {},
   "outputs": [
    {
     "name": "stdout",
     "output_type": "stream",
     "text": [
      "multiplication of list = karthikkarthikkarthik\n"
     ]
    }
   ],
   "source": [
    "n = [1,'karthik',3]\n",
    "mul = n[0]*n[1]*n[2]\n",
    "print('multiplication of list =', mul)"
   ]
  },
  {
   "cell_type": "markdown",
   "id": "58bd2ab4",
   "metadata": {},
   "source": [
    "### Largest number in list"
   ]
  },
  {
   "cell_type": "code",
   "execution_count": 4,
   "id": "bf7cc0bf",
   "metadata": {},
   "outputs": [
    {
     "name": "stdout",
     "output_type": "stream",
     "text": [
      "[55, 17, 73, 42]\n",
      "Largest number in list = 73\n"
     ]
    }
   ],
   "source": [
    "n = [55,17,73,42]\n",
    "print(n)\n",
    "print('Largest number in list =', max(n))"
   ]
  },
  {
   "cell_type": "markdown",
   "id": "7eef1908",
   "metadata": {},
   "source": [
    "### Smallest number in list"
   ]
  },
  {
   "cell_type": "code",
   "execution_count": 6,
   "id": "61d0ddad",
   "metadata": {},
   "outputs": [
    {
     "name": "stdout",
     "output_type": "stream",
     "text": [
      "[34, 97, 73, 42]\n",
      "Smallest number in list = 34\n"
     ]
    }
   ],
   "source": [
    "n = [34,97,73,42]\n",
    "print(n)\n",
    "print('Smallest number in list =', min(n))"
   ]
  },
  {
   "cell_type": "markdown",
   "id": "0ab386b1",
   "metadata": {},
   "source": [
    "### Count of strings in a list"
   ]
  },
  {
   "cell_type": "code",
   "execution_count": 8,
   "id": "979b4fb0",
   "metadata": {},
   "outputs": [
    {
     "name": "stdout",
     "output_type": "stream",
     "text": [
      "number of strings in list = 5\n"
     ]
    }
   ],
   "source": [
    "a= ['aba','cdc','efe','ghg','aba']\n",
    "count = 0\n",
    "i = 0\n",
    "for i in range(len(a)):\n",
    "    count += 1\n",
    "print('number of strings in list =', count)"
   ]
  }
 ],
 "metadata": {
  "kernelspec": {
   "display_name": "Python 3 (ipykernel)",
   "language": "python",
   "name": "python3"
  },
  "language_info": {
   "codemirror_mode": {
    "name": "ipython",
    "version": 3
   },
   "file_extension": ".py",
   "mimetype": "text/x-python",
   "name": "python",
   "nbconvert_exporter": "python",
   "pygments_lexer": "ipython3",
   "version": "3.9.12"
  }
 },
 "nbformat": 4,
 "nbformat_minor": 5
}

{
 "cells": [
  {
   "cell_type": "markdown",
   "id": "420e0e0a",
   "metadata": {},
   "source": [
    "### square the numbers in list"
   ]
  },
  {
   "cell_type": "code",
   "execution_count": 4,
   "id": "d130f48a",
   "metadata": {},
   "outputs": [
    {
     "name": "stdout",
     "output_type": "stream",
     "text": [
      "[1, 4, 9, 16, 25]\n"
     ]
    }
   ],
   "source": [
    "numbers = [1, 2, 3, 4, 5]\n",
    "squared = [number ** 2 for number in numbers]\n",
    "print(squared)"
   ]
  },
  {
   "cell_type": "markdown",
   "id": "97b18014",
   "metadata": {},
   "source": [
    "### multiply list by 10"
   ]
  },
  {
   "cell_type": "code",
   "execution_count": 5,
   "id": "eb83e9f1",
   "metadata": {},
   "outputs": [
    {
     "name": "stdout",
     "output_type": "stream",
     "text": [
      "[1, 2, 3, 4, 5, 1, 2, 3, 4, 5, 1, 2, 3, 4, 5, 1, 2, 3, 4, 5, 1, 2, 3, 4, 5, 1, 2, 3, 4, 5, 1, 2, 3, 4, 5, 1, 2, 3, 4, 5, 1, 2, 3, 4, 5, 1, 2, 3, 4, 5]\n"
     ]
    }
   ],
   "source": [
    "numbers = [1, 2, 3, 4, 5]\n",
    "print(numbers*10)"
   ]
  },
  {
   "cell_type": "markdown",
   "id": "b13c9284",
   "metadata": {},
   "source": [
    "### exract the number from list"
   ]
  },
  {
   "cell_type": "code",
   "execution_count": 7,
   "id": "b2853d21",
   "metadata": {},
   "outputs": [
    {
     "name": "stdout",
     "output_type": "stream",
     "text": [
      "Hi my age is 22 years\n",
      "[22]\n"
     ]
    }
   ],
   "source": [
    "a= \"Hi my age is 22 years\"\n",
    "print(a)\n",
    "\n",
    "numbers = [int(a)for a in a.split() if a.isdigit()]\n",
    "\n",
    "print(numbers)"
   ]
  },
  {
   "cell_type": "markdown",
   "id": "77f12a73",
   "metadata": {},
   "source": [
    "### remove duplicate elements in list"
   ]
  },
  {
   "cell_type": "code",
   "execution_count": 9,
   "id": "e049893d",
   "metadata": {},
   "outputs": [
    {
     "name": "stdout",
     "output_type": "stream",
     "text": [
      "removed duplicate elements:  [1, 2, 3, 4, 5]\n"
     ]
    }
   ],
   "source": [
    "l = [1, 2,3, 4, 2, 1, 4, 5,3]\n",
    "res = [*set(l)]\n",
    "print(\"removed duplicate elements: \", res)"
   ]
  },
  {
   "cell_type": "markdown",
   "id": "7c9389c8",
   "metadata": {},
   "source": [
    "### sum of list"
   ]
  },
  {
   "cell_type": "code",
   "execution_count": 10,
   "id": "83c63be9",
   "metadata": {},
   "outputs": [
    {
     "name": "stdout",
     "output_type": "stream",
     "text": [
      "25\n"
     ]
    }
   ],
   "source": [
    "l = [1, 2,3, 4, 2, 1, 4, 5,3]\n",
    "print(sum(l))"
   ]
  }
 ],
 "metadata": {
  "kernelspec": {
   "display_name": "Python 3 (ipykernel)",
   "language": "python",
   "name": "python3"
  },
  "language_info": {
   "codemirror_mode": {
    "name": "ipython",
    "version": 3
   },
   "file_extension": ".py",
   "mimetype": "text/x-python",
   "name": "python",
   "nbconvert_exporter": "python",
   "pygments_lexer": "ipython3",
   "version": "3.9.12"
  }
 },
 "nbformat": 4,
 "nbformat_minor": 5
}
